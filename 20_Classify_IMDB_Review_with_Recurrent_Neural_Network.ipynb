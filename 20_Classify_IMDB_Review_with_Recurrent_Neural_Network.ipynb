{
 "cells": [
  {
   "cell_type": "markdown",
   "metadata": {
    "id": "MusV5YYT6kQF"
   },
   "source": [
    "# Classify IMDB Review with Recurrent Neural Network"
   ]
  },
  {
   "cell_type": "code",
   "execution_count": 1,
   "metadata": {},
   "outputs": [],
   "source": [
    "import warnings\n",
    "warnings.filterwarnings('ignore')"
   ]
  },
  {
   "cell_type": "code",
   "execution_count": 2,
   "metadata": {},
   "outputs": [],
   "source": [
    "# To obtain the same results for each run, use random seeds in the keras and make the tensorflow operation decisive.\n",
    "import tensorflow as tf\n",
    "\n",
    "tf.keras.utils.set_random_seed(42)\n",
    "tf.config.experimental.enable_op_determinism()"
   ]
  },
  {
   "cell_type": "markdown",
   "metadata": {
    "id": "S1A-DDIQ6kQQ"
   },
   "source": [
    "## IMDB Review Dataset"
   ]
  },
  {
   "cell_type": "code",
   "execution_count": 3,
   "metadata": {
    "colab": {
     "base_uri": "https://localhost:8080/"
    },
    "id": "sZoZm1ZO6kQR",
    "outputId": "c340dd55-629f-4615-db76-9c06bc46e2c2"
   },
   "outputs": [
    {
     "name": "stdout",
     "output_type": "stream",
     "text": [
      "Downloading data from https://storage.googleapis.com/tensorflow/tf-keras-datasets/imdb.npz\n",
      "17464789/17464789 [==============================] - 2s 0us/step\n"
     ]
    }
   ],
   "source": [
    "from tensorflow.keras.datasets import imdb\n",
    "\n",
    "(train_input, train_target), (test_input, test_target) = imdb.load_data(\n",
    "    num_words=500)"
   ]
  },
  {
   "cell_type": "code",
   "execution_count": 4,
   "metadata": {
    "colab": {
     "base_uri": "https://localhost:8080/"
    },
    "id": "HTFjz6k06kQR",
    "outputId": "1d4929d7-0a93-4bb8-cf03-682ada3d6ac9"
   },
   "outputs": [
    {
     "name": "stdout",
     "output_type": "stream",
     "text": [
      "(25000,) (25000,)\n"
     ]
    }
   ],
   "source": [
    "print(train_input.shape, test_input.shape)"
   ]
  },
  {
   "cell_type": "code",
   "execution_count": 5,
   "metadata": {
    "colab": {
     "base_uri": "https://localhost:8080/"
    },
    "id": "4jMLURzw6kQS",
    "outputId": "ffb635f3-a3bd-42ed-b6da-fecaa0ede408"
   },
   "outputs": [
    {
     "name": "stdout",
     "output_type": "stream",
     "text": [
      "218\n"
     ]
    }
   ],
   "source": [
    "print(len(train_input[0]))"
   ]
  },
  {
   "cell_type": "code",
   "execution_count": 6,
   "metadata": {
    "colab": {
     "base_uri": "https://localhost:8080/"
    },
    "id": "xdO834PL6kQT",
    "outputId": "28ba2580-b6b8-49b0-e07e-4df8026a5626"
   },
   "outputs": [
    {
     "name": "stdout",
     "output_type": "stream",
     "text": [
      "189\n"
     ]
    }
   ],
   "source": [
    "print(len(train_input[1]))"
   ]
  },
  {
   "cell_type": "code",
   "execution_count": 7,
   "metadata": {
    "colab": {
     "base_uri": "https://localhost:8080/"
    },
    "id": "QNuzGQ2c6kQT",
    "outputId": "88f7dd8c-188e-4ad9-edb2-f4b59c498d40"
   },
   "outputs": [
    {
     "name": "stdout",
     "output_type": "stream",
     "text": [
      "[1, 14, 22, 16, 43, 2, 2, 2, 2, 65, 458, 2, 66, 2, 4, 173, 36, 256, 5, 25, 100, 43, 2, 112, 50, 2, 2, 9, 35, 480, 284, 5, 150, 4, 172, 112, 167, 2, 336, 385, 39, 4, 172, 2, 2, 17, 2, 38, 13, 447, 4, 192, 50, 16, 6, 147, 2, 19, 14, 22, 4, 2, 2, 469, 4, 22, 71, 87, 12, 16, 43, 2, 38, 76, 15, 13, 2, 4, 22, 17, 2, 17, 12, 16, 2, 18, 2, 5, 62, 386, 12, 8, 316, 8, 106, 5, 4, 2, 2, 16, 480, 66, 2, 33, 4, 130, 12, 16, 38, 2, 5, 25, 124, 51, 36, 135, 48, 25, 2, 33, 6, 22, 12, 215, 28, 77, 52, 5, 14, 407, 16, 82, 2, 8, 4, 107, 117, 2, 15, 256, 4, 2, 7, 2, 5, 2, 36, 71, 43, 2, 476, 26, 400, 317, 46, 7, 4, 2, 2, 13, 104, 88, 4, 381, 15, 297, 98, 32, 2, 56, 26, 141, 6, 194, 2, 18, 4, 226, 22, 21, 134, 476, 26, 480, 5, 144, 30, 2, 18, 51, 36, 28, 224, 92, 25, 104, 4, 226, 65, 16, 38, 2, 88, 12, 16, 283, 5, 16, 2, 113, 103, 32, 15, 16, 2, 19, 178, 32]\n"
     ]
    }
   ],
   "source": [
    "print(train_input[0])"
   ]
  },
  {
   "cell_type": "code",
   "execution_count": 8,
   "metadata": {
    "colab": {
     "base_uri": "https://localhost:8080/"
    },
    "id": "In8Qzltz6kQT",
    "outputId": "78b5ddc6-d634-4755-9435-25cc8f2c9462"
   },
   "outputs": [
    {
     "name": "stdout",
     "output_type": "stream",
     "text": [
      "[1 0 0 1 0 0 1 0 1 0 1 0 0 0 0 0 1 1 0 1]\n"
     ]
    }
   ],
   "source": [
    "print(train_target[:20])"
   ]
  },
  {
   "cell_type": "code",
   "execution_count": 9,
   "metadata": {
    "id": "0-zjNgBw6kQU"
   },
   "outputs": [],
   "source": [
    "from sklearn.model_selection import train_test_split\n",
    "\n",
    "train_input, val_input, train_target, val_target = train_test_split(\n",
    "    train_input, train_target, test_size=0.2, random_state=42)"
   ]
  },
  {
   "cell_type": "code",
   "execution_count": 10,
   "metadata": {
    "id": "sRVvgntx6kQU"
   },
   "outputs": [],
   "source": [
    "import numpy as np\n",
    "\n",
    "lengths = np.array([len(x) for x in train_input])"
   ]
  },
  {
   "cell_type": "code",
   "execution_count": 11,
   "metadata": {
    "colab": {
     "base_uri": "https://localhost:8080/"
    },
    "id": "p76m_61w6kQU",
    "outputId": "04b533f6-45ef-4514-d87d-b484a89afde6"
   },
   "outputs": [
    {
     "name": "stdout",
     "output_type": "stream",
     "text": [
      "239.00925 178.0\n"
     ]
    }
   ],
   "source": [
    "print(np.mean(lengths), np.median(lengths))"
   ]
  },
  {
   "cell_type": "code",
   "execution_count": 12,
   "metadata": {
    "colab": {
     "base_uri": "https://localhost:8080/",
     "height": 279
    },
    "id": "TVDrsRYF6kQV",
    "outputId": "2610932c-ac31-480b-8a6c-fd5ac2793a34"
   },
   "outputs": [
    {
     "data": {
      "image/png": "[encoded data removed]",
      "text/plain": [
       "<Figure size 432x288 with 1 Axes>"
      ]
     },
     "metadata": {
      "needs_background": "light"
     },
     "output_type": "display_data"
    }
   ],
   "source": [
    "import matplotlib.pyplot as plt\n",
    "\n",
    "plt.hist(lengths)\n",
    "plt.xlabel('length')\n",
    "plt.ylabel('frequency')\n",
    "plt.show()"
   ]
  },
  {
   "cell_type": "code",
   "execution_count": 13,
   "metadata": {
    "id": "fbLSFToP6kQV"
   },
   "outputs": [],
   "source": [
    "from tensorflow.keras.preprocessing.sequence import pad_sequences\n",
    "\n",
    "train_seq = pad_sequences(train_input, maxlen=100)"
   ]
  },
  {
   "cell_type": "code",
   "execution_count": 14,
   "metadata": {
    "colab": {
     "base_uri": "https://localhost:8080/"
    },
    "id": "3c86x0Yj6kQV",
    "outputId": "52d4ff3a-9aa5-4ebd-e086-d9b2d490a29f"
   },
   "outputs": [
    {
     "name": "stdout",
     "output_type": "stream",
     "text": [
      "(20000, 100)\n"
     ]
    }
   ],
   "source": [
    "print(train_seq.shape)"
   ]
  },
  {
   "cell_type": "code",
   "execution_count": 15,
   "metadata": {
    "colab": {
     "base_uri": "https://localhost:8080/"
    },
    "id": "JuP0QJaU6kQW",
    "outputId": "95e6521e-b200-4733-f5e8-65320ff2a81f"
   },
   "outputs": [
    {
     "name": "stdout",
     "output_type": "stream",
     "text": [
      "[ 10   4  20   9   2 364 352   5  45   6   2   2  33 269   8   2 142   2\n",
      "   5   2  17  73  17 204   5   2  19  55   2   2  92  66 104  14  20  93\n",
      "  76   2 151  33   4  58  12 188   2 151  12 215  69 224 142  73 237   6\n",
      "   2   7   2   2 188   2 103  14  31  10  10 451   7   2   5   2  80  91\n",
      "   2  30   2  34  14  20 151  50  26 131  49   2  84  46  50  37  80  79\n",
      "   6   2  46   7  14  20  10  10 470 158]\n"
     ]
    }
   ],
   "source": [
    "print(train_seq[0])"
   ]
  },
  {
   "cell_type": "code",
   "execution_count": 16,
   "metadata": {
    "colab": {
     "base_uri": "https://localhost:8080/"
    },
    "id": "6t8kaDji6kQW",
    "outputId": "a9d5ba15-838d-4cac-c23c-18c2fa4b709f"
   },
   "outputs": [
    {
     "name": "stdout",
     "output_type": "stream",
     "text": [
      "[6, 2, 46, 7, 14, 20, 10, 10, 470, 158]\n"
     ]
    }
   ],
   "source": [
    "print(train_input[0][-10:])"
   ]
  },
  {
   "cell_type": "code",
   "execution_count": 17,
   "metadata": {
    "colab": {
     "base_uri": "https://localhost:8080/"
    },
    "id": "Emmoztwa6kQX",
    "outputId": "d72b6139-e876-41a1-b331-313d3199548a",
    "scrolled": true
   },
   "outputs": [
    {
     "name": "stdout",
     "output_type": "stream",
     "text": [
      "[  0   0   0   0   1   2 195  19  49   2   2 190   4   2 352   2 183  10\n",
      "  10  13  82  79   4   2  36  71 269   8   2  25  19  49   7   4   2   2\n",
      "   2   2   2  10  10  48  25  40   2  11   2   2  40   2   2   5   4   2\n",
      "   2  95  14 238  56 129   2  10  10  21   2  94 364 352   2   2  11 190\n",
      "  24 484   2   7  94 205 405  10  10  87   2  34  49   2   7   2   2   2\n",
      "   2   2 290   2  46  48  64  18   4   2]\n"
     ]
    }
   ],
   "source": [
    "print(train_seq[5])"
   ]
  },
  {
   "cell_type": "code",
   "execution_count": 18,
   "metadata": {
    "id": "ZeFmsjOd6kQX"
   },
   "outputs": [],
   "source": [
    "val_seq = pad_sequences(val_input, maxlen=100)"
   ]
  },
  {
   "cell_type": "markdown",
   "metadata": {
    "id": "9xab0nu_6kQX"
   },
   "source": [
    "## Create Recurrent Neural Network"
   ]
  },
  {
   "cell_type": "code",
   "execution_count": 19,
   "metadata": {
    "id": "45BtHGKX6kQX"
   },
   "outputs": [],
   "source": [
    "from tensorflow import keras\n",
    "\n",
    "model = keras.Sequential()\n",
    "\n",
    "model.add(keras.layers.SimpleRNN(8, input_shape=(100, 500)))\n",
    "model.add(keras.layers.Dense(1, activation='sigmoid'))"
   ]
  },
  {
   "cell_type": "code",
   "execution_count": 20,
   "metadata": {
    "id": "oXIWyOuw6kQY"
   },
   "outputs": [],
   "source": [
    "train_oh = keras.utils.to_categorical(train_seq)"
   ]
  },
  {
   "cell_type": "code",
   "execution_count": 21,
   "metadata": {
    "colab": {
     "base_uri": "https://localhost:8080/"
    },
    "id": "VD94WiRT6kQY",
    "outputId": "d2074cc9-cdb3-4c73-e9ca-1318fdd34034"
   },
   "outputs": [
    {
     "name": "stdout",
     "output_type": "stream",
     "text": [
      "(20000, 100, 500)\n"
     ]
    }
   ],
   "source": [
    "print(train_oh.shape)"
   ]
  },
  {
   "cell_type": "code",
   "execution_count": 22,
   "metadata": {
    "colab": {
     "base_uri": "https://localhost:8080/"
    },
    "id": "VIVSHwJg6kQY",
    "outputId": "972653fa-6acd-405d-d1ee-2422708f9863"
   },
   "outputs": [
    {
     "name": "stdout",
     "output_type": "stream",
     "text": [
      "[0. 0. 0. 0. 0. 0. 0. 0. 0. 0. 1. 0.]\n"
     ]
    }
   ],
   "source": [
    "print(train_oh[0][0][:12])"
   ]
  },
  {
   "cell_type": "code",
   "execution_count": 23,
   "metadata": {
    "colab": {
     "base_uri": "https://localhost:8080/"
    },
    "id": "CP3ivii46kQZ",
    "outputId": "6a669f1a-41fe-486a-e0e1-bd812d2b7aeb"
   },
   "outputs": [
    {
     "name": "stdout",
     "output_type": "stream",
     "text": [
      "1.0\n"
     ]
    }
   ],
   "source": [
    "print(np.sum(train_oh[0][0]))"
   ]
  },
  {
   "cell_type": "code",
   "execution_count": 24,
   "metadata": {
    "id": "vgijH6m26kQZ"
   },
   "outputs": [],
   "source": [
    "val_oh = keras.utils.to_categorical(val_seq)"
   ]
  },
  {
   "cell_type": "code",
   "execution_count": 25,
   "metadata": {
    "colab": {
     "base_uri": "https://localhost:8080/"
    },
    "id": "0V0Svpuf6kQZ",
    "outputId": "34f0dd62-57da-4907-8032-9bb2655a986e"
   },
   "outputs": [
    {
     "name": "stdout",
     "output_type": "stream",
     "text": [
      "Model: \"sequential\"\n",
      "_________________________________________________________________\n",
      " Layer (type)                Output Shape              Param #   \n",
      "=================================================================\n",
      " simple_rnn (SimpleRNN)      (None, 8)                 4072      \n",
      "                                                                 \n",
      " dense (Dense)               (None, 1)                 9         \n",
      "                                                                 \n",
      "=================================================================\n",
      "Total params: 4,081\n",
      "Trainable params: 4,081\n",
      "Non-trainable params: 0\n",
      "_________________________________________________________________\n"
     ]
    }
   ],
   "source": [
    "model.summary()"
   ]
  },
  {
   "cell_type": "markdown",
   "metadata": {
    "id": "S22Hc-7L6kQZ"
   },
   "source": [
    "## Train Recurrent Neural Network"
   ]
  },
  {
   "cell_type": "code",
   "execution_count": 26,
   "metadata": {
    "colab": {
     "base_uri": "https://localhost:8080/"
    },
    "id": "YcwM299t6kQZ",
    "outputId": "257518bf-52ab-49d8-aa91-3c2e606ffd74"
   },
   "outputs": [
    {
     "name": "stdout",
     "output_type": "stream",
     "text": [
      "Epoch 1/100\n",
      "313/313 [==============================] - 12s 29ms/step - loss: 0.6968 - accuracy: 0.5075 - val_loss: 0.6923 - val_accuracy: 0.5246\n",
      "Epoch 2/100\n",
      "313/313 [==============================] - 8s 25ms/step - loss: 0.6879 - accuracy: 0.5418 - val_loss: 0.6828 - val_accuracy: 0.5638\n",
      "Epoch 3/100\n",
      "313/313 [==============================] - 8s 26ms/step - loss: 0.6777 - accuracy: 0.5800 - val_loss: 0.6763 - val_accuracy: 0.5840\n",
      "Epoch 4/100\n",
      "313/313 [==============================] - 8s 25ms/step - loss: 0.6702 - accuracy: 0.6000 - val_loss: 0.6692 - val_accuracy: 0.6016\n",
      "Epoch 5/100\n",
      "313/313 [==============================] - 9s 27ms/step - loss: 0.6619 - accuracy: 0.6209 - val_loss: 0.6608 - val_accuracy: 0.6206\n",
      "Epoch 6/100\n",
      "313/313 [==============================] - 9s 29ms/step - loss: 0.6513 - accuracy: 0.6407 - val_loss: 0.6516 - val_accuracy: 0.6380\n",
      "Epoch 7/100\n",
      "313/313 [==============================] - 9s 27ms/step - loss: 0.6395 - accuracy: 0.6613 - val_loss: 0.6388 - val_accuracy: 0.6564\n",
      "Epoch 8/100\n",
      "313/313 [==============================] - 8s 27ms/step - loss: 0.6259 - accuracy: 0.6809 - val_loss: 0.6250 - val_accuracy: 0.6802\n",
      "Epoch 9/100\n",
      "313/313 [==============================] - 8s 27ms/step - loss: 0.6104 - accuracy: 0.7018 - val_loss: 0.6104 - val_accuracy: 0.6958\n",
      "Epoch 10/100\n",
      "313/313 [==============================] - 9s 29ms/step - loss: 0.5943 - accuracy: 0.7169 - val_loss: 0.5949 - val_accuracy: 0.7132\n",
      "Epoch 11/100\n",
      "313/313 [==============================] - 9s 28ms/step - loss: 0.5789 - accuracy: 0.7301 - val_loss: 0.5795 - val_accuracy: 0.7248\n",
      "Epoch 12/100\n",
      "313/313 [==============================] - 10s 31ms/step - loss: 0.5640 - accuracy: 0.7422 - val_loss: 0.5653 - val_accuracy: 0.7348\n",
      "Epoch 13/100\n",
      "313/313 [==============================] - 11s 37ms/step - loss: 0.5499 - accuracy: 0.7510 - val_loss: 0.5518 - val_accuracy: 0.7460\n",
      "Epoch 14/100\n",
      "313/313 [==============================] - 10s 32ms/step - loss: 0.5359 - accuracy: 0.7592 - val_loss: 0.5405 - val_accuracy: 0.7526\n",
      "Epoch 15/100\n",
      "313/313 [==============================] - 10s 33ms/step - loss: 0.5236 - accuracy: 0.7656 - val_loss: 0.5329 - val_accuracy: 0.7528\n",
      "Epoch 16/100\n",
      "313/313 [==============================] - 10s 33ms/step - loss: 0.5115 - accuracy: 0.7719 - val_loss: 0.5190 - val_accuracy: 0.7600\n",
      "Epoch 17/100\n",
      "313/313 [==============================] - 9s 28ms/step - loss: 0.5004 - accuracy: 0.7762 - val_loss: 0.5103 - val_accuracy: 0.7636\n",
      "Epoch 18/100\n",
      "313/313 [==============================] - 9s 28ms/step - loss: 0.4910 - accuracy: 0.7811 - val_loss: 0.5013 - val_accuracy: 0.7746\n",
      "Epoch 19/100\n",
      "313/313 [==============================] - 8s 26ms/step - loss: 0.4830 - accuracy: 0.7869 - val_loss: 0.4962 - val_accuracy: 0.7726\n",
      "Epoch 20/100\n",
      "313/313 [==============================] - 10s 30ms/step - loss: 0.4750 - accuracy: 0.7886 - val_loss: 0.4867 - val_accuracy: 0.7784\n",
      "Epoch 21/100\n",
      "313/313 [==============================] - 9s 28ms/step - loss: 0.4681 - accuracy: 0.7926 - val_loss: 0.4813 - val_accuracy: 0.7790\n",
      "Epoch 22/100\n",
      "313/313 [==============================] - 9s 28ms/step - loss: 0.4613 - accuracy: 0.7947 - val_loss: 0.4810 - val_accuracy: 0.7794\n",
      "Epoch 23/100\n",
      "313/313 [==============================] - 8s 25ms/step - loss: 0.4558 - accuracy: 0.7965 - val_loss: 0.4723 - val_accuracy: 0.7842\n",
      "Epoch 24/100\n",
      "313/313 [==============================] - 8s 26ms/step - loss: 0.4507 - accuracy: 0.8015 - val_loss: 0.4692 - val_accuracy: 0.7856\n",
      "Epoch 25/100\n",
      "313/313 [==============================] - 8s 25ms/step - loss: 0.4465 - accuracy: 0.8029 - val_loss: 0.4662 - val_accuracy: 0.7840\n",
      "Epoch 26/100\n",
      "313/313 [==============================] - 8s 25ms/step - loss: 0.4422 - accuracy: 0.8036 - val_loss: 0.4642 - val_accuracy: 0.7852\n",
      "Epoch 27/100\n",
      "313/313 [==============================] - 8s 25ms/step - loss: 0.4392 - accuracy: 0.8061 - val_loss: 0.4617 - val_accuracy: 0.7876\n",
      "Epoch 28/100\n",
      "313/313 [==============================] - 8s 26ms/step - loss: 0.4362 - accuracy: 0.8073 - val_loss: 0.4596 - val_accuracy: 0.7892\n",
      "Epoch 29/100\n",
      "313/313 [==============================] - 8s 26ms/step - loss: 0.4329 - accuracy: 0.8086 - val_loss: 0.4646 - val_accuracy: 0.7856\n",
      "Epoch 30/100\n",
      "313/313 [==============================] - 9s 28ms/step - loss: 0.4297 - accuracy: 0.8094 - val_loss: 0.4598 - val_accuracy: 0.7894\n",
      "Epoch 31/100\n",
      "313/313 [==============================] - 8s 26ms/step - loss: 0.4281 - accuracy: 0.8092 - val_loss: 0.4589 - val_accuracy: 0.7888\n",
      "Epoch 32/100\n",
      "313/313 [==============================] - 8s 26ms/step - loss: 0.4256 - accuracy: 0.8116 - val_loss: 0.4546 - val_accuracy: 0.7914\n",
      "Epoch 33/100\n",
      "313/313 [==============================] - 7s 23ms/step - loss: 0.4234 - accuracy: 0.8111 - val_loss: 0.4548 - val_accuracy: 0.7880\n",
      "Epoch 34/100\n",
      "313/313 [==============================] - 7s 22ms/step - loss: 0.4217 - accuracy: 0.8129 - val_loss: 0.4552 - val_accuracy: 0.7888\n",
      "Epoch 35/100\n",
      "313/313 [==============================] - 7s 23ms/step - loss: 0.4201 - accuracy: 0.8144 - val_loss: 0.4546 - val_accuracy: 0.7924\n",
      "Epoch 36/100\n",
      "313/313 [==============================] - 8s 25ms/step - loss: 0.4184 - accuracy: 0.8148 - val_loss: 0.4524 - val_accuracy: 0.7896\n",
      "Epoch 37/100\n",
      "313/313 [==============================] - 7s 22ms/step - loss: 0.4167 - accuracy: 0.8168 - val_loss: 0.4546 - val_accuracy: 0.7900\n",
      "Epoch 38/100\n",
      "313/313 [==============================] - 7s 22ms/step - loss: 0.4149 - accuracy: 0.8167 - val_loss: 0.4517 - val_accuracy: 0.7898\n",
      "Epoch 39/100\n",
      "313/313 [==============================] - 7s 22ms/step - loss: 0.4136 - accuracy: 0.8175 - val_loss: 0.4509 - val_accuracy: 0.7914\n",
      "Epoch 40/100\n",
      "313/313 [==============================] - 7s 22ms/step - loss: 0.4126 - accuracy: 0.8176 - val_loss: 0.4525 - val_accuracy: 0.7912\n",
      "Epoch 41/100\n",
      "313/313 [==============================] - 7s 22ms/step - loss: 0.4110 - accuracy: 0.8184 - val_loss: 0.4509 - val_accuracy: 0.7926\n",
      "Epoch 42/100\n",
      "313/313 [==============================] - 7s 23ms/step - loss: 0.4099 - accuracy: 0.8196 - val_loss: 0.4533 - val_accuracy: 0.7880\n"
     ]
    }
   ],
   "source": [
    "rmsprop = keras.optimizers.RMSprop(learning_rate=1e-4)\n",
    "model.compile(optimizer=rmsprop, loss='binary_crossentropy', \n",
    "              metrics=['accuracy'])\n",
    "\n",
    "checkpoint_cb = keras.callbacks.ModelCheckpoint('best-simplernn-model.h5', \n",
    "                                                save_best_only=True)\n",
    "early_stopping_cb = keras.callbacks.EarlyStopping(patience=3,\n",
    "                                                  restore_best_weights=True)\n",
    "\n",
    "history = model.fit(train_oh, train_target, epochs=100, batch_size=64,\n",
    "                    validation_data=(val_oh, val_target),\n",
    "                    callbacks=[checkpoint_cb, early_stopping_cb])"
   ]
  },
  {
   "cell_type": "code",
   "execution_count": 27,
   "metadata": {
    "colab": {
     "base_uri": "https://localhost:8080/",
     "height": 279
    },
    "id": "YS_5tIG26kQa",
    "outputId": "7affeec2-15fb-4217-daa5-2c8ef2f8a74b"
   },
   "outputs": [
    {
     "data": {
      "image/png": "[encoded data removed]",
      "text/plain": [
       "<Figure size 432x288 with 1 Axes>"
      ]
     },
     "metadata": {
      "needs_background": "light"
     },
     "output_type": "display_data"
    }
   ],
   "source": [
    "plt.plot(history.history['loss'])\n",
    "plt.plot(history.history['val_loss'])\n",
    "plt.xlabel('epoch')\n",
    "plt.ylabel('loss')\n",
    "plt.legend(['train', 'val'])\n",
    "plt.show()"
   ]
  },
  {
   "cell_type": "markdown",
   "metadata": {
    "id": "K_U_lVie6kQa"
   },
   "source": [
    "## Use Word Embedding"
   ]
  },
  {
   "cell_type": "code",
   "execution_count": 28,
   "metadata": {
    "colab": {
     "base_uri": "https://localhost:8080/"
    },
    "id": "Ofl-Ifev6kQa",
    "outputId": "5446f8dd-845c-4fea-eb3a-a8887f010da0"
   },
   "outputs": [
    {
     "name": "stdout",
     "output_type": "stream",
     "text": [
      "Model: \"sequential_1\"\n",
      "_________________________________________________________________\n",
      " Layer (type)                Output Shape              Param #   \n",
      "=================================================================\n",
      " embedding (Embedding)       (None, 100, 16)           8000      \n",
      "                                                                 \n",
      " simple_rnn_1 (SimpleRNN)    (None, 8)                 200       \n",
      "                                                                 \n",
      " dense_1 (Dense)             (None, 1)                 9         \n",
      "                                                                 \n",
      "=================================================================\n",
      "Total params: 8,209\n",
      "Trainable params: 8,209\n",
      "Non-trainable params: 0\n",
      "_________________________________________________________________\n"
     ]
    }
   ],
   "source": [
    "model2 = keras.Sequential()\n",
    "\n",
    "model2.add(keras.layers.Embedding(500, 16, input_length=100))\n",
    "model2.add(keras.layers.SimpleRNN(8))\n",
    "model2.add(keras.layers.Dense(1, activation='sigmoid'))\n",
    "\n",
    "model2.summary()"
   ]
  },
  {
   "cell_type": "code",
   "execution_count": 29,
   "metadata": {
    "colab": {
     "base_uri": "https://localhost:8080/"
    },
    "id": "78TUrJAs6kQa",
    "outputId": "ee782c94-cf81-4add-e0a9-5290b91bd2bf"
   },
   "outputs": [
    {
     "name": "stdout",
     "output_type": "stream",
     "text": [
      "Epoch 1/100\n",
      "313/313 [==============================] - 6s 15ms/step - loss: 0.6849 - accuracy: 0.5494 - val_loss: 0.6596 - val_accuracy: 0.6102\n",
      "Epoch 2/100\n",
      "313/313 [==============================] - 5s 17ms/step - loss: 0.6227 - accuracy: 0.6683 - val_loss: 0.6018 - val_accuracy: 0.6938\n",
      "Epoch 3/100\n",
      "313/313 [==============================] - 6s 18ms/step - loss: 0.5713 - accuracy: 0.7290 - val_loss: 0.5644 - val_accuracy: 0.7360\n",
      "Epoch 4/100\n",
      "313/313 [==============================] - 5s 18ms/step - loss: 0.5380 - accuracy: 0.7528 - val_loss: 0.5404 - val_accuracy: 0.7384\n",
      "Epoch 5/100\n",
      "313/313 [==============================] - 5s 17ms/step - loss: 0.5177 - accuracy: 0.7641 - val_loss: 0.5229 - val_accuracy: 0.7560\n",
      "Epoch 6/100\n",
      "313/313 [==============================] - 6s 18ms/step - loss: 0.5038 - accuracy: 0.7727 - val_loss: 0.5139 - val_accuracy: 0.7582\n",
      "Epoch 7/100\n",
      "313/313 [==============================] - 6s 18ms/step - loss: 0.4932 - accuracy: 0.7794 - val_loss: 0.5064 - val_accuracy: 0.7668\n",
      "Epoch 8/100\n",
      "313/313 [==============================] - 5s 18ms/step - loss: 0.4844 - accuracy: 0.7825 - val_loss: 0.5037 - val_accuracy: 0.7602\n",
      "Epoch 9/100\n",
      "313/313 [==============================] - 5s 17ms/step - loss: 0.4771 - accuracy: 0.7883 - val_loss: 0.4944 - val_accuracy: 0.7680\n",
      "Epoch 10/100\n",
      "313/313 [==============================] - 5s 17ms/step - loss: 0.4705 - accuracy: 0.7907 - val_loss: 0.4898 - val_accuracy: 0.7680\n",
      "Epoch 11/100\n",
      "313/313 [==============================] - 5s 17ms/step - loss: 0.4658 - accuracy: 0.7929 - val_loss: 0.4853 - val_accuracy: 0.7736\n",
      "Epoch 12/100\n",
      "313/313 [==============================] - 5s 17ms/step - loss: 0.4604 - accuracy: 0.7943 - val_loss: 0.4975 - val_accuracy: 0.7630\n",
      "Epoch 13/100\n",
      "313/313 [==============================] - 6s 18ms/step - loss: 0.4559 - accuracy: 0.7983 - val_loss: 0.4857 - val_accuracy: 0.7746\n",
      "Epoch 14/100\n",
      "313/313 [==============================] - 6s 18ms/step - loss: 0.4524 - accuracy: 0.8002 - val_loss: 0.4791 - val_accuracy: 0.7782\n",
      "Epoch 15/100\n",
      "313/313 [==============================] - 6s 18ms/step - loss: 0.4478 - accuracy: 0.8043 - val_loss: 0.4883 - val_accuracy: 0.7698\n",
      "Epoch 16/100\n",
      "313/313 [==============================] - 6s 18ms/step - loss: 0.4445 - accuracy: 0.8055 - val_loss: 0.4754 - val_accuracy: 0.7850\n",
      "Epoch 17/100\n",
      "313/313 [==============================] - 5s 17ms/step - loss: 0.4410 - accuracy: 0.8080 - val_loss: 0.4965 - val_accuracy: 0.7572\n",
      "Epoch 18/100\n",
      "313/313 [==============================] - 6s 19ms/step - loss: 0.4380 - accuracy: 0.8080 - val_loss: 0.4754 - val_accuracy: 0.7798\n",
      "Epoch 19/100\n",
      "313/313 [==============================] - 7s 21ms/step - loss: 0.4354 - accuracy: 0.8098 - val_loss: 0.4885 - val_accuracy: 0.7720\n",
      "Epoch 20/100\n",
      "313/313 [==============================] - 7s 21ms/step - loss: 0.4322 - accuracy: 0.8113 - val_loss: 0.4711 - val_accuracy: 0.7846\n",
      "Epoch 21/100\n",
      "313/313 [==============================] - 6s 18ms/step - loss: 0.4294 - accuracy: 0.8140 - val_loss: 0.4717 - val_accuracy: 0.7826\n",
      "Epoch 22/100\n",
      "313/313 [==============================] - 5s 17ms/step - loss: 0.4268 - accuracy: 0.8158 - val_loss: 0.4730 - val_accuracy: 0.7786\n",
      "Epoch 23/100\n",
      "313/313 [==============================] - 5s 17ms/step - loss: 0.4241 - accuracy: 0.8163 - val_loss: 0.4783 - val_accuracy: 0.7766\n"
     ]
    }
   ],
   "source": [
    "rmsprop = keras.optimizers.RMSprop(learning_rate=1e-4)\n",
    "model2.compile(optimizer=rmsprop, loss='binary_crossentropy', \n",
    "               metrics=['accuracy'])\n",
    "\n",
    "checkpoint_cb = keras.callbacks.ModelCheckpoint('best-embedding-model.h5', \n",
    "                                                save_best_only=True)\n",
    "early_stopping_cb = keras.callbacks.EarlyStopping(patience=3,\n",
    "                                                  restore_best_weights=True)\n",
    "\n",
    "history = model2.fit(train_seq, train_target, epochs=100, batch_size=64,\n",
    "                     validation_data=(val_seq, val_target),\n",
    "                     callbacks=[checkpoint_cb, early_stopping_cb])"
   ]
  },
  {
   "cell_type": "code",
   "execution_count": 30,
   "metadata": {
    "colab": {
     "base_uri": "https://localhost:8080/",
     "height": 282
    },
    "id": "brUvKwLt6kQb",
    "outputId": "c9907bb0-000c-4c7f-fe2c-ce8128bac52b",
    "tags": []
   },
   "outputs": [
    {
     "data": {
      "image/png": "[encoded data removed]",
      "text/plain": [
       "<Figure size 432x288 with 1 Axes>"
      ]
     },
     "metadata": {
      "needs_background": "light"
     },
     "output_type": "display_data"
    }
   ],
   "source": [
    "plt.plot(history.history['loss'])\n",
    "plt.plot(history.history['val_loss'])\n",
    "plt.xlabel('epoch')\n",
    "plt.ylabel('loss')\n",
    "plt.legend(['train', 'val'])\n",
    "plt.show()"
   ]
  }
 ],
 "metadata": {
  "accelerator": "GPU",
  "colab": {
   "name": "9-2.ipynb",
   "provenance": []
  },
  "kernelspec": {
   "display_name": "Python 3 (ipykernel)",
   "language": "python",
   "name": "python3"
  },
  "language_info": {
   "codemirror_mode": {
    "name": "ipython",
    "version": 3
   },
   "file_extension": ".py",
   "mimetype": "text/x-python",
   "name": "python",
   "nbconvert_exporter": "python",
   "pygments_lexer": "ipython3",
   "version": "3.9.7"
  }
 },
 "nbformat": 4,
 "nbformat_minor": 4
}
