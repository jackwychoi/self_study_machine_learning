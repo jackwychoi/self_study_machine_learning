{
 "cells": [
  {
   "cell_type": "markdown",
   "metadata": {
    "id": "AlaMdWF26k2H"
   },
   "source": [
    "# LSTM and GRU"
   ]
  },
  {
   "cell_type": "code",
   "execution_count": 1,
   "metadata": {},
   "outputs": [],
   "source": [
    "import warnings\n",
    "warnings.filterwarnings('ignore')"
   ]
  },
  {
   "cell_type": "code",
   "execution_count": 2,
   "metadata": {},
   "outputs": [],
   "source": [
    "# To obtain the same results for each run, use random seeds in the keras and make the tensorflow operation decisive.\n",
    "import tensorflow as tf\n",
    "\n",
    "tf.keras.utils.set_random_seed(42)\n",
    "tf.config.experimental.enable_op_determinism()"
   ]
  },
  {
   "cell_type": "markdown",
   "metadata": {
    "id": "KWi9yl0q6k2N"
   },
   "source": [
    "## Train LSTM Neural Network"
   ]
  },
  {
   "cell_type": "code",
   "execution_count": 3,
   "metadata": {
    "colab": {
     "base_uri": "https://localhost:8080/"
    },
    "id": "XL7x0NCx6k2N",
    "outputId": "d5c9f55e-6a51-49b7-e739-d2242adddcae"
   },
   "outputs": [],
   "source": [
    "from tensorflow.keras.datasets import imdb\n",
    "from sklearn.model_selection import train_test_split\n",
    "\n",
    "(train_input, train_target), (test_input, test_target) = imdb.load_data(\n",
    "    num_words=500)\n",
    "\n",
    "train_input, val_input, train_target, val_target = train_test_split(\n",
    "    train_input, train_target, test_size=0.2, random_state=42)"
   ]
  },
  {
   "cell_type": "code",
   "execution_count": 4,
   "metadata": {
    "id": "5bjJ14QJ6k2O"
   },
   "outputs": [],
   "source": [
    "from tensorflow.keras.preprocessing.sequence import pad_sequences\n",
    "\n",
    "train_seq = pad_sequences(train_input, maxlen=100)\n",
    "val_seq = pad_sequences(val_input, maxlen=100)"
   ]
  },
  {
   "cell_type": "code",
   "execution_count": 5,
   "metadata": {
    "colab": {
     "base_uri": "https://localhost:8080/"
    },
    "id": "uMlTD4zv6k2O",
    "outputId": "dc7c0080-f72c-4032-caf4-1a8e63202989"
   },
   "outputs": [
    {
     "name": "stdout",
     "output_type": "stream",
     "text": [
      "Model: \"sequential\"\n",
      "_________________________________________________________________\n",
      " Layer (type)                Output Shape              Param #   \n",
      "=================================================================\n",
      " embedding (Embedding)       (None, 100, 16)           8000      \n",
      "                                                                 \n",
      " lstm (LSTM)                 (None, 8)                 800       \n",
      "                                                                 \n",
      " dense (Dense)               (None, 1)                 9         \n",
      "                                                                 \n",
      "=================================================================\n",
      "Total params: 8,809\n",
      "Trainable params: 8,809\n",
      "Non-trainable params: 0\n",
      "_________________________________________________________________\n"
     ]
    }
   ],
   "source": [
    "from tensorflow import keras\n",
    "\n",
    "model = keras.Sequential()\n",
    "\n",
    "model.add(keras.layers.Embedding(500, 16, input_length=100))\n",
    "model.add(keras.layers.LSTM(8))\n",
    "model.add(keras.layers.Dense(1, activation='sigmoid'))\n",
    "\n",
    "model.summary()"
   ]
  },
  {
   "cell_type": "code",
   "execution_count": 6,
   "metadata": {
    "colab": {
     "base_uri": "https://localhost:8080/"
    },
    "id": "nCmqOkjI6k2P",
    "outputId": "5057828c-5f90-48a5-fafa-c31f7407cc4c"
   },
   "outputs": [
    {
     "name": "stdout",
     "output_type": "stream",
     "text": [
      "Epoch 1/100\n",
      "313/313 [==============================] - 13s 34ms/step - loss: 0.6925 - accuracy: 0.5365 - val_loss: 0.6919 - val_accuracy: 0.5530\n",
      "Epoch 2/100\n",
      "313/313 [==============================] - 10s 32ms/step - loss: 0.6904 - accuracy: 0.5943 - val_loss: 0.6890 - val_accuracy: 0.6034\n",
      "Epoch 3/100\n",
      "313/313 [==============================] - 10s 31ms/step - loss: 0.6849 - accuracy: 0.6400 - val_loss: 0.6806 - val_accuracy: 0.6388\n",
      "Epoch 4/100\n",
      "313/313 [==============================] - 10s 31ms/step - loss: 0.6581 - accuracy: 0.6748 - val_loss: 0.6282 - val_accuracy: 0.7050\n",
      "Epoch 5/100\n",
      "313/313 [==============================] - 9s 29ms/step - loss: 0.6004 - accuracy: 0.7304 - val_loss: 0.5910 - val_accuracy: 0.7254\n",
      "Epoch 6/100\n",
      "313/313 [==============================] - 9s 30ms/step - loss: 0.5741 - accuracy: 0.7407 - val_loss: 0.5673 - val_accuracy: 0.7386\n",
      "Epoch 7/100\n",
      "313/313 [==============================] - 9s 29ms/step - loss: 0.5511 - accuracy: 0.7530 - val_loss: 0.5455 - val_accuracy: 0.7514\n",
      "Epoch 8/100\n",
      "313/313 [==============================] - 9s 29ms/step - loss: 0.5304 - accuracy: 0.7643 - val_loss: 0.5268 - val_accuracy: 0.7658\n",
      "Epoch 9/100\n",
      "313/313 [==============================] - 10s 31ms/step - loss: 0.5127 - accuracy: 0.7740 - val_loss: 0.5116 - val_accuracy: 0.7716\n",
      "Epoch 10/100\n",
      "313/313 [==============================] - 9s 30ms/step - loss: 0.4975 - accuracy: 0.7821 - val_loss: 0.4974 - val_accuracy: 0.7764\n",
      "Epoch 11/100\n",
      "313/313 [==============================] - 9s 29ms/step - loss: 0.4841 - accuracy: 0.7884 - val_loss: 0.4863 - val_accuracy: 0.7838\n",
      "Epoch 12/100\n",
      "313/313 [==============================] - 10s 30ms/step - loss: 0.4727 - accuracy: 0.7936 - val_loss: 0.4769 - val_accuracy: 0.7838\n",
      "Epoch 13/100\n",
      "313/313 [==============================] - 11s 34ms/step - loss: 0.4626 - accuracy: 0.7965 - val_loss: 0.4681 - val_accuracy: 0.7916\n",
      "Epoch 14/100\n",
      "313/313 [==============================] - 9s 29ms/step - loss: 0.4538 - accuracy: 0.7998 - val_loss: 0.4615 - val_accuracy: 0.7908\n",
      "Epoch 15/100\n",
      "313/313 [==============================] - 9s 29ms/step - loss: 0.4467 - accuracy: 0.8042 - val_loss: 0.4640 - val_accuracy: 0.7880\n",
      "Epoch 16/100\n",
      "313/313 [==============================] - 10s 32ms/step - loss: 0.4406 - accuracy: 0.8055 - val_loss: 0.4538 - val_accuracy: 0.7964\n",
      "Epoch 17/100\n",
      "313/313 [==============================] - 9s 30ms/step - loss: 0.4353 - accuracy: 0.8079 - val_loss: 0.4494 - val_accuracy: 0.7960\n",
      "Epoch 18/100\n",
      "313/313 [==============================] - 9s 28ms/step - loss: 0.4314 - accuracy: 0.8094 - val_loss: 0.4449 - val_accuracy: 0.8004\n",
      "Epoch 19/100\n",
      "313/313 [==============================] - 10s 33ms/step - loss: 0.4278 - accuracy: 0.8116 - val_loss: 0.4443 - val_accuracy: 0.7994\n",
      "Epoch 20/100\n",
      "313/313 [==============================] - 10s 30ms/step - loss: 0.4249 - accuracy: 0.8138 - val_loss: 0.4414 - val_accuracy: 0.7996\n",
      "Epoch 21/100\n",
      "313/313 [==============================] - 10s 32ms/step - loss: 0.4229 - accuracy: 0.8126 - val_loss: 0.4396 - val_accuracy: 0.8010\n",
      "Epoch 22/100\n",
      "313/313 [==============================] - 12s 37ms/step - loss: 0.4210 - accuracy: 0.8131 - val_loss: 0.4426 - val_accuracy: 0.7982\n",
      "Epoch 23/100\n",
      "313/313 [==============================] - 10s 30ms/step - loss: 0.4193 - accuracy: 0.8136 - val_loss: 0.4378 - val_accuracy: 0.8012\n",
      "Epoch 24/100\n",
      "313/313 [==============================] - 10s 30ms/step - loss: 0.4175 - accuracy: 0.8141 - val_loss: 0.4377 - val_accuracy: 0.7988\n",
      "Epoch 25/100\n",
      "313/313 [==============================] - 9s 30ms/step - loss: 0.4165 - accuracy: 0.8120 - val_loss: 0.4352 - val_accuracy: 0.8012\n",
      "Epoch 26/100\n",
      "313/313 [==============================] - 9s 28ms/step - loss: 0.4149 - accuracy: 0.8161 - val_loss: 0.4346 - val_accuracy: 0.8006\n",
      "Epoch 27/100\n",
      "313/313 [==============================] - 10s 30ms/step - loss: 0.4140 - accuracy: 0.8153 - val_loss: 0.4335 - val_accuracy: 0.8014\n",
      "Epoch 28/100\n",
      "313/313 [==============================] - 9s 28ms/step - loss: 0.4130 - accuracy: 0.8141 - val_loss: 0.4353 - val_accuracy: 0.7978\n",
      "Epoch 29/100\n",
      "313/313 [==============================] - 9s 29ms/step - loss: 0.4118 - accuracy: 0.8163 - val_loss: 0.4359 - val_accuracy: 0.8032\n",
      "Epoch 30/100\n",
      "313/313 [==============================] - 9s 30ms/step - loss: 0.4106 - accuracy: 0.8164 - val_loss: 0.4342 - val_accuracy: 0.7992\n"
     ]
    }
   ],
   "source": [
    "rmsprop = keras.optimizers.RMSprop(learning_rate=1e-4)\n",
    "model.compile(optimizer=rmsprop, loss='binary_crossentropy', \n",
    "              metrics=['accuracy'])\n",
    "\n",
    "checkpoint_cb = keras.callbacks.ModelCheckpoint('best-lstm-model.h5', \n",
    "                                                save_best_only=True)\n",
    "early_stopping_cb = keras.callbacks.EarlyStopping(patience=3,\n",
    "                                                  restore_best_weights=True)\n",
    "\n",
    "history = model.fit(train_seq, train_target, epochs=100, batch_size=64,\n",
    "                    validation_data=(val_seq, val_target),\n",
    "                    callbacks=[checkpoint_cb, early_stopping_cb])"
   ]
  },
  {
   "cell_type": "code",
   "execution_count": 7,
   "metadata": {
    "colab": {
     "base_uri": "https://localhost:8080/",
     "height": 279
    },
    "id": "Xl1bliNr6k2Q",
    "outputId": "4e6792a9-2118-4498-a4cb-f0b39d1609c0"
   },
   "outputs": [
    {
     "data": {
      "image/png": "[encoded data removed]",
      "text/plain": [
       "<Figure size 432x288 with 1 Axes>"
      ]
     },
     "metadata": {
      "needs_background": "light"
     },
     "output_type": "display_data"
    }
   ],
   "source": [
    "import matplotlib.pyplot as plt\n",
    "\n",
    "plt.plot(history.history['loss'])\n",
    "plt.plot(history.history['val_loss'])\n",
    "plt.xlabel('epoch')\n",
    "plt.ylabel('loss')\n",
    "plt.legend(['train', 'val'])\n",
    "plt.show()"
   ]
  },
  {
   "cell_type": "markdown",
   "metadata": {
    "id": "ob79h7Kc6k2Q"
   },
   "source": [
    "## Apply Dropout to the Recurrent Layer"
   ]
  },
  {
   "cell_type": "code",
   "execution_count": 8,
   "metadata": {
    "id": "Fr0DUR-Y6k2R"
   },
   "outputs": [],
   "source": [
    "model2 = keras.Sequential()\n",
    "\n",
    "model2.add(keras.layers.Embedding(500, 16, input_length=100))\n",
    "model2.add(keras.layers.LSTM(8, dropout=0.3))\n",
    "model2.add(keras.layers.Dense(1, activation='sigmoid'))"
   ]
  },
  {
   "cell_type": "code",
   "execution_count": 9,
   "metadata": {
    "colab": {
     "base_uri": "https://localhost:8080/"
    },
    "id": "Ap8XxUO46k2R",
    "outputId": "5953909f-5c48-43e9-b321-8b5f3ed0d52a"
   },
   "outputs": [
    {
     "name": "stdout",
     "output_type": "stream",
     "text": [
      "Epoch 1/100\n",
      "313/313 [==============================] - 11s 30ms/step - loss: 0.6923 - accuracy: 0.5397 - val_loss: 0.6913 - val_accuracy: 0.5808\n",
      "Epoch 2/100\n",
      "313/313 [==============================] - 8s 25ms/step - loss: 0.6898 - accuracy: 0.5940 - val_loss: 0.6883 - val_accuracy: 0.6160\n",
      "Epoch 3/100\n",
      "313/313 [==============================] - 8s 26ms/step - loss: 0.6855 - accuracy: 0.6259 - val_loss: 0.6827 - val_accuracy: 0.6308\n",
      "Epoch 4/100\n",
      "313/313 [==============================] - 8s 26ms/step - loss: 0.6756 - accuracy: 0.6324 - val_loss: 0.6672 - val_accuracy: 0.6240\n",
      "Epoch 5/100\n",
      "313/313 [==============================] - 8s 24ms/step - loss: 0.6418 - accuracy: 0.6754 - val_loss: 0.6243 - val_accuracy: 0.7018\n",
      "Epoch 6/100\n",
      "313/313 [==============================] - 8s 25ms/step - loss: 0.6074 - accuracy: 0.7257 - val_loss: 0.6005 - val_accuracy: 0.7306\n",
      "Epoch 7/100\n",
      "313/313 [==============================] - 8s 25ms/step - loss: 0.5877 - accuracy: 0.7426 - val_loss: 0.5835 - val_accuracy: 0.7432\n",
      "Epoch 8/100\n",
      "313/313 [==============================] - 8s 27ms/step - loss: 0.5718 - accuracy: 0.7493 - val_loss: 0.5689 - val_accuracy: 0.7506\n",
      "Epoch 9/100\n",
      "313/313 [==============================] - 9s 28ms/step - loss: 0.5593 - accuracy: 0.7581 - val_loss: 0.5574 - val_accuracy: 0.7550\n",
      "Epoch 10/100\n",
      "313/313 [==============================] - 10s 33ms/step - loss: 0.5464 - accuracy: 0.7649 - val_loss: 0.5427 - val_accuracy: 0.7630\n",
      "Epoch 11/100\n",
      "313/313 [==============================] - 10s 32ms/step - loss: 0.5357 - accuracy: 0.7692 - val_loss: 0.5313 - val_accuracy: 0.7710\n",
      "Epoch 12/100\n",
      "313/313 [==============================] - 9s 30ms/step - loss: 0.5248 - accuracy: 0.7755 - val_loss: 0.5185 - val_accuracy: 0.7788\n",
      "Epoch 13/100\n",
      "313/313 [==============================] - 10s 30ms/step - loss: 0.5141 - accuracy: 0.7771 - val_loss: 0.5115 - val_accuracy: 0.7794\n",
      "Epoch 14/100\n",
      "313/313 [==============================] - 10s 32ms/step - loss: 0.5019 - accuracy: 0.7833 - val_loss: 0.5000 - val_accuracy: 0.7826\n",
      "Epoch 15/100\n",
      "313/313 [==============================] - 10s 31ms/step - loss: 0.4929 - accuracy: 0.7861 - val_loss: 0.4920 - val_accuracy: 0.7864\n",
      "Epoch 16/100\n",
      "313/313 [==============================] - 9s 29ms/step - loss: 0.4839 - accuracy: 0.7892 - val_loss: 0.4809 - val_accuracy: 0.7888\n",
      "Epoch 17/100\n",
      "313/313 [==============================] - 9s 29ms/step - loss: 0.4739 - accuracy: 0.7944 - val_loss: 0.4740 - val_accuracy: 0.7880\n",
      "Epoch 18/100\n",
      "313/313 [==============================] - 9s 29ms/step - loss: 0.4663 - accuracy: 0.7947 - val_loss: 0.4689 - val_accuracy: 0.7896\n",
      "Epoch 19/100\n",
      "313/313 [==============================] - 9s 29ms/step - loss: 0.4589 - accuracy: 0.7981 - val_loss: 0.4624 - val_accuracy: 0.7912\n",
      "Epoch 20/100\n",
      "313/313 [==============================] - 9s 29ms/step - loss: 0.4548 - accuracy: 0.7995 - val_loss: 0.4577 - val_accuracy: 0.7920\n",
      "Epoch 21/100\n",
      "313/313 [==============================] - 9s 29ms/step - loss: 0.4509 - accuracy: 0.7997 - val_loss: 0.4542 - val_accuracy: 0.7948\n",
      "Epoch 22/100\n",
      "313/313 [==============================] - 9s 29ms/step - loss: 0.4470 - accuracy: 0.8013 - val_loss: 0.4532 - val_accuracy: 0.7974\n",
      "Epoch 23/100\n",
      "313/313 [==============================] - 9s 29ms/step - loss: 0.4438 - accuracy: 0.8014 - val_loss: 0.4497 - val_accuracy: 0.7952\n",
      "Epoch 24/100\n",
      "313/313 [==============================] - 9s 30ms/step - loss: 0.4413 - accuracy: 0.8021 - val_loss: 0.4495 - val_accuracy: 0.7954\n",
      "Epoch 25/100\n",
      "313/313 [==============================] - 9s 30ms/step - loss: 0.4391 - accuracy: 0.8012 - val_loss: 0.4454 - val_accuracy: 0.7968\n",
      "Epoch 26/100\n",
      "313/313 [==============================] - 9s 30ms/step - loss: 0.4364 - accuracy: 0.8049 - val_loss: 0.4470 - val_accuracy: 0.7972\n",
      "Epoch 27/100\n",
      "313/313 [==============================] - 9s 29ms/step - loss: 0.4333 - accuracy: 0.8066 - val_loss: 0.4422 - val_accuracy: 0.7984\n",
      "Epoch 28/100\n",
      "313/313 [==============================] - 10s 32ms/step - loss: 0.4337 - accuracy: 0.8054 - val_loss: 0.4451 - val_accuracy: 0.7948\n",
      "Epoch 29/100\n",
      "313/313 [==============================] - 9s 29ms/step - loss: 0.4305 - accuracy: 0.8062 - val_loss: 0.4427 - val_accuracy: 0.8004\n",
      "Epoch 30/100\n",
      "313/313 [==============================] - 9s 28ms/step - loss: 0.4296 - accuracy: 0.8081 - val_loss: 0.4399 - val_accuracy: 0.7986\n",
      "Epoch 31/100\n",
      "313/313 [==============================] - 9s 29ms/step - loss: 0.4277 - accuracy: 0.8076 - val_loss: 0.4436 - val_accuracy: 0.7924\n",
      "Epoch 32/100\n",
      "313/313 [==============================] - 9s 29ms/step - loss: 0.4254 - accuracy: 0.8104 - val_loss: 0.4383 - val_accuracy: 0.7992\n",
      "Epoch 33/100\n",
      "313/313 [==============================] - 9s 29ms/step - loss: 0.4245 - accuracy: 0.8091 - val_loss: 0.4369 - val_accuracy: 0.8042\n",
      "Epoch 34/100\n",
      "313/313 [==============================] - 9s 29ms/step - loss: 0.4237 - accuracy: 0.8100 - val_loss: 0.4366 - val_accuracy: 0.8056\n",
      "Epoch 35/100\n",
      "313/313 [==============================] - 9s 29ms/step - loss: 0.4237 - accuracy: 0.8095 - val_loss: 0.4358 - val_accuracy: 0.8066\n",
      "Epoch 36/100\n",
      "313/313 [==============================] - 9s 29ms/step - loss: 0.4206 - accuracy: 0.8118 - val_loss: 0.4341 - val_accuracy: 0.8006\n",
      "Epoch 37/100\n",
      "313/313 [==============================] - 9s 28ms/step - loss: 0.4223 - accuracy: 0.8090 - val_loss: 0.4413 - val_accuracy: 0.7990\n",
      "Epoch 38/100\n",
      "313/313 [==============================] - 9s 29ms/step - loss: 0.4181 - accuracy: 0.8105 - val_loss: 0.4336 - val_accuracy: 0.8056\n",
      "Epoch 39/100\n",
      "313/313 [==============================] - 9s 29ms/step - loss: 0.4198 - accuracy: 0.8119 - val_loss: 0.4322 - val_accuracy: 0.8056\n",
      "Epoch 40/100\n",
      "313/313 [==============================] - 9s 30ms/step - loss: 0.4196 - accuracy: 0.8102 - val_loss: 0.4378 - val_accuracy: 0.7966\n",
      "Epoch 41/100\n",
      "313/313 [==============================] - 9s 30ms/step - loss: 0.4186 - accuracy: 0.8106 - val_loss: 0.4313 - val_accuracy: 0.8050\n",
      "Epoch 42/100\n",
      "313/313 [==============================] - 9s 28ms/step - loss: 0.4157 - accuracy: 0.8107 - val_loss: 0.4316 - val_accuracy: 0.8074\n",
      "Epoch 43/100\n",
      "313/313 [==============================] - 9s 29ms/step - loss: 0.4163 - accuracy: 0.8111 - val_loss: 0.4335 - val_accuracy: 0.7992\n",
      "Epoch 44/100\n",
      "313/313 [==============================] - 9s 28ms/step - loss: 0.4156 - accuracy: 0.8120 - val_loss: 0.4314 - val_accuracy: 0.8072\n"
     ]
    }
   ],
   "source": [
    "rmsprop = keras.optimizers.RMSprop(learning_rate=1e-4)\n",
    "model2.compile(optimizer=rmsprop, loss='binary_crossentropy', \n",
    "               metrics=['accuracy'])\n",
    "\n",
    "checkpoint_cb = keras.callbacks.ModelCheckpoint('best-dropout-model.h5', \n",
    "                                                save_best_only=True)\n",
    "early_stopping_cb = keras.callbacks.EarlyStopping(patience=3,\n",
    "                                                  restore_best_weights=True)\n",
    "\n",
    "history = model2.fit(train_seq, train_target, epochs=100, batch_size=64,\n",
    "                     validation_data=(val_seq, val_target),\n",
    "                     callbacks=[checkpoint_cb, early_stopping_cb])"
   ]
  },
  {
   "cell_type": "code",
   "execution_count": 10,
   "metadata": {
    "colab": {
     "base_uri": "https://localhost:8080/",
     "height": 279
    },
    "id": "Qzwsp3pl6k2R",
    "outputId": "97305973-3c11-4c55-c466-a608273094cb"
   },
   "outputs": [
    {
     "data": {
      "image/png": "[encoded data removed]",
      "text/plain": [
       "<Figure size 432x288 with 1 Axes>"
      ]
     },
     "metadata": {
      "needs_background": "light"
     },
     "output_type": "display_data"
    }
   ],
   "source": [
    "plt.plot(history.history['loss'])\n",
    "plt.plot(history.history['val_loss'])\n",
    "plt.xlabel('epoch')\n",
    "plt.ylabel('loss')\n",
    "plt.legend(['train', 'val'])\n",
    "plt.show()"
   ]
  },
  {
   "cell_type": "markdown",
   "metadata": {
    "id": "DKtQByM96k2S"
   },
   "source": [
    "## Connect Two Layers"
   ]
  },
  {
   "cell_type": "code",
   "execution_count": 11,
   "metadata": {
    "colab": {
     "base_uri": "https://localhost:8080/"
    },
    "id": "YkQboCpD6k2S",
    "outputId": "5f30a5ec-16a9-476a-95b6-3d55b36b64b4"
   },
   "outputs": [
    {
     "name": "stdout",
     "output_type": "stream",
     "text": [
      "Model: \"sequential_2\"\n",
      "_________________________________________________________________\n",
      " Layer (type)                Output Shape              Param #   \n",
      "=================================================================\n",
      " embedding_2 (Embedding)     (None, 100, 16)           8000      \n",
      "                                                                 \n",
      " lstm_2 (LSTM)               (None, 100, 8)            800       \n",
      "                                                                 \n",
      " lstm_3 (LSTM)               (None, 8)                 544       \n",
      "                                                                 \n",
      " dense_2 (Dense)             (None, 1)                 9         \n",
      "                                                                 \n",
      "=================================================================\n",
      "Total params: 9,353\n",
      "Trainable params: 9,353\n",
      "Non-trainable params: 0\n",
      "_________________________________________________________________\n"
     ]
    }
   ],
   "source": [
    "model3 = keras.Sequential()\n",
    "\n",
    "model3.add(keras.layers.Embedding(500, 16, input_length=100))\n",
    "model3.add(keras.layers.LSTM(8, dropout=0.3, return_sequences=True))\n",
    "model3.add(keras.layers.LSTM(8, dropout=0.3))\n",
    "model3.add(keras.layers.Dense(1, activation='sigmoid'))\n",
    "\n",
    "model3.summary()"
   ]
  },
  {
   "cell_type": "code",
   "execution_count": 12,
   "metadata": {
    "colab": {
     "base_uri": "https://localhost:8080/"
    },
    "id": "hDk_ffAo6k2S",
    "outputId": "f7439e48-073f-4124-b10e-dea60f18f69d"
   },
   "outputs": [
    {
     "name": "stdout",
     "output_type": "stream",
     "text": [
      "Epoch 1/100\n",
      "313/313 [==============================] - 21s 57ms/step - loss: 0.6926 - accuracy: 0.5339 - val_loss: 0.6915 - val_accuracy: 0.5832\n",
      "Epoch 2/100\n",
      "313/313 [==============================] - 16s 53ms/step - loss: 0.6843 - accuracy: 0.6409 - val_loss: 0.6673 - val_accuracy: 0.6720\n",
      "Epoch 3/100\n",
      "313/313 [==============================] - 17s 54ms/step - loss: 0.6158 - accuracy: 0.6945 - val_loss: 0.5754 - val_accuracy: 0.7198\n",
      "Epoch 4/100\n",
      "313/313 [==============================] - 17s 54ms/step - loss: 0.5569 - accuracy: 0.7294 - val_loss: 0.5381 - val_accuracy: 0.7446\n",
      "Epoch 5/100\n",
      "313/313 [==============================] - 18s 58ms/step - loss: 0.5273 - accuracy: 0.7493 - val_loss: 0.5113 - val_accuracy: 0.7594\n",
      "Epoch 6/100\n",
      "313/313 [==============================] - 17s 54ms/step - loss: 0.5060 - accuracy: 0.7617 - val_loss: 0.4964 - val_accuracy: 0.7698\n",
      "Epoch 7/100\n",
      "313/313 [==============================] - 17s 55ms/step - loss: 0.4952 - accuracy: 0.7692 - val_loss: 0.4848 - val_accuracy: 0.7764\n",
      "Epoch 8/100\n",
      "313/313 [==============================] - 17s 54ms/step - loss: 0.4841 - accuracy: 0.7748 - val_loss: 0.4809 - val_accuracy: 0.7774\n",
      "Epoch 9/100\n",
      "313/313 [==============================] - 18s 59ms/step - loss: 0.4742 - accuracy: 0.7812 - val_loss: 0.4711 - val_accuracy: 0.7832\n",
      "Epoch 10/100\n",
      "313/313 [==============================] - 20s 63ms/step - loss: 0.4687 - accuracy: 0.7873 - val_loss: 0.4648 - val_accuracy: 0.7868\n",
      "Epoch 11/100\n",
      "313/313 [==============================] - 19s 60ms/step - loss: 0.4644 - accuracy: 0.7849 - val_loss: 0.4621 - val_accuracy: 0.7860\n",
      "Epoch 12/100\n",
      "313/313 [==============================] - 19s 61ms/step - loss: 0.4607 - accuracy: 0.7884 - val_loss: 0.4583 - val_accuracy: 0.7880\n",
      "Epoch 13/100\n",
      "313/313 [==============================] - 19s 60ms/step - loss: 0.4544 - accuracy: 0.7913 - val_loss: 0.4554 - val_accuracy: 0.7896\n",
      "Epoch 14/100\n",
      "313/313 [==============================] - 19s 60ms/step - loss: 0.4519 - accuracy: 0.7911 - val_loss: 0.4544 - val_accuracy: 0.7876\n",
      "Epoch 15/100\n",
      "313/313 [==============================] - 17s 54ms/step - loss: 0.4480 - accuracy: 0.7938 - val_loss: 0.4643 - val_accuracy: 0.7826\n",
      "Epoch 16/100\n",
      "313/313 [==============================] - 18s 59ms/step - loss: 0.4470 - accuracy: 0.7933 - val_loss: 0.4535 - val_accuracy: 0.7884\n",
      "Epoch 17/100\n",
      "313/313 [==============================] - 16s 51ms/step - loss: 0.4460 - accuracy: 0.7947 - val_loss: 0.4521 - val_accuracy: 0.7916\n",
      "Epoch 18/100\n",
      "313/313 [==============================] - 14s 46ms/step - loss: 0.4432 - accuracy: 0.7966 - val_loss: 0.4461 - val_accuracy: 0.7946\n",
      "Epoch 19/100\n",
      "313/313 [==============================] - 14s 46ms/step - loss: 0.4417 - accuracy: 0.7977 - val_loss: 0.4465 - val_accuracy: 0.7948\n",
      "Epoch 20/100\n",
      "313/313 [==============================] - 14s 46ms/step - loss: 0.4378 - accuracy: 0.7980 - val_loss: 0.4439 - val_accuracy: 0.7954\n",
      "Epoch 21/100\n",
      "313/313 [==============================] - 14s 46ms/step - loss: 0.4381 - accuracy: 0.7992 - val_loss: 0.4428 - val_accuracy: 0.7950\n",
      "Epoch 22/100\n",
      "313/313 [==============================] - 16s 51ms/step - loss: 0.4362 - accuracy: 0.7993 - val_loss: 0.4466 - val_accuracy: 0.7954\n",
      "Epoch 23/100\n",
      "313/313 [==============================] - 18s 56ms/step - loss: 0.4348 - accuracy: 0.8012 - val_loss: 0.4419 - val_accuracy: 0.7956\n",
      "Epoch 24/100\n",
      "313/313 [==============================] - 17s 54ms/step - loss: 0.4331 - accuracy: 0.8017 - val_loss: 0.4442 - val_accuracy: 0.7910\n",
      "Epoch 25/100\n",
      "313/313 [==============================] - 17s 55ms/step - loss: 0.4332 - accuracy: 0.8016 - val_loss: 0.4401 - val_accuracy: 0.7950\n",
      "Epoch 26/100\n",
      "313/313 [==============================] - 18s 56ms/step - loss: 0.4317 - accuracy: 0.8001 - val_loss: 0.4412 - val_accuracy: 0.7900\n",
      "Epoch 27/100\n",
      "313/313 [==============================] - 17s 54ms/step - loss: 0.4296 - accuracy: 0.8019 - val_loss: 0.4392 - val_accuracy: 0.7952\n",
      "Epoch 28/100\n",
      "313/313 [==============================] - 17s 54ms/step - loss: 0.4296 - accuracy: 0.8016 - val_loss: 0.4388 - val_accuracy: 0.7936\n",
      "Epoch 29/100\n",
      "313/313 [==============================] - 17s 54ms/step - loss: 0.4295 - accuracy: 0.8044 - val_loss: 0.4432 - val_accuracy: 0.7972\n",
      "Epoch 30/100\n",
      "313/313 [==============================] - 17s 53ms/step - loss: 0.4278 - accuracy: 0.8056 - val_loss: 0.4379 - val_accuracy: 0.7950\n",
      "Epoch 31/100\n",
      "313/313 [==============================] - 17s 56ms/step - loss: 0.4277 - accuracy: 0.8044 - val_loss: 0.4457 - val_accuracy: 0.7888\n",
      "Epoch 32/100\n",
      "313/313 [==============================] - 17s 54ms/step - loss: 0.4252 - accuracy: 0.8043 - val_loss: 0.4374 - val_accuracy: 0.7924\n",
      "Epoch 33/100\n",
      "313/313 [==============================] - 17s 54ms/step - loss: 0.4264 - accuracy: 0.8023 - val_loss: 0.4421 - val_accuracy: 0.7988\n",
      "Epoch 34/100\n",
      "313/313 [==============================] - 17s 55ms/step - loss: 0.4248 - accuracy: 0.8063 - val_loss: 0.4375 - val_accuracy: 0.8000\n",
      "Epoch 35/100\n",
      "313/313 [==============================] - 18s 57ms/step - loss: 0.4247 - accuracy: 0.8051 - val_loss: 0.4364 - val_accuracy: 0.7990\n",
      "Epoch 36/100\n",
      "313/313 [==============================] - 18s 57ms/step - loss: 0.4245 - accuracy: 0.8070 - val_loss: 0.4352 - val_accuracy: 0.7956\n",
      "Epoch 37/100\n",
      "313/313 [==============================] - 17s 53ms/step - loss: 0.4235 - accuracy: 0.8061 - val_loss: 0.4409 - val_accuracy: 0.8004\n",
      "Epoch 38/100\n",
      "313/313 [==============================] - 17s 54ms/step - loss: 0.4215 - accuracy: 0.8072 - val_loss: 0.4351 - val_accuracy: 0.8014\n",
      "Epoch 39/100\n",
      "313/313 [==============================] - 17s 53ms/step - loss: 0.4229 - accuracy: 0.8034 - val_loss: 0.4339 - val_accuracy: 0.7992\n",
      "Epoch 40/100\n",
      "313/313 [==============================] - 16s 52ms/step - loss: 0.4231 - accuracy: 0.8055 - val_loss: 0.4393 - val_accuracy: 0.7906\n",
      "Epoch 41/100\n",
      "313/313 [==============================] - 14s 46ms/step - loss: 0.4210 - accuracy: 0.8058 - val_loss: 0.4337 - val_accuracy: 0.7958\n",
      "Epoch 42/100\n",
      "313/313 [==============================] - 14s 46ms/step - loss: 0.4201 - accuracy: 0.8088 - val_loss: 0.4335 - val_accuracy: 0.7986\n",
      "Epoch 43/100\n",
      "313/313 [==============================] - 16s 52ms/step - loss: 0.4193 - accuracy: 0.8081 - val_loss: 0.4363 - val_accuracy: 0.7910\n",
      "Epoch 44/100\n",
      "313/313 [==============================] - 17s 55ms/step - loss: 0.4197 - accuracy: 0.8069 - val_loss: 0.4332 - val_accuracy: 0.8012\n",
      "Epoch 45/100\n",
      "313/313 [==============================] - 17s 54ms/step - loss: 0.4191 - accuracy: 0.8059 - val_loss: 0.4355 - val_accuracy: 0.7932\n",
      "Epoch 46/100\n",
      "313/313 [==============================] - 18s 58ms/step - loss: 0.4181 - accuracy: 0.8099 - val_loss: 0.4316 - val_accuracy: 0.8014\n",
      "Epoch 47/100\n",
      "313/313 [==============================] - 18s 57ms/step - loss: 0.4188 - accuracy: 0.8081 - val_loss: 0.4353 - val_accuracy: 0.8030\n",
      "Epoch 48/100\n",
      "313/313 [==============================] - 18s 58ms/step - loss: 0.4164 - accuracy: 0.8115 - val_loss: 0.4311 - val_accuracy: 0.8000\n",
      "Epoch 49/100\n",
      "313/313 [==============================] - 19s 62ms/step - loss: 0.4169 - accuracy: 0.8091 - val_loss: 0.4317 - val_accuracy: 0.8022\n",
      "Epoch 50/100\n",
      "313/313 [==============================] - 17s 54ms/step - loss: 0.4165 - accuracy: 0.8095 - val_loss: 0.4309 - val_accuracy: 0.8016\n",
      "Epoch 51/100\n",
      "313/313 [==============================] - 17s 53ms/step - loss: 0.4142 - accuracy: 0.8088 - val_loss: 0.4313 - val_accuracy: 0.8030\n",
      "Epoch 52/100\n",
      "313/313 [==============================] - 17s 55ms/step - loss: 0.4159 - accuracy: 0.8099 - val_loss: 0.4306 - val_accuracy: 0.8020\n",
      "Epoch 53/100\n",
      "313/313 [==============================] - 17s 54ms/step - loss: 0.4146 - accuracy: 0.8094 - val_loss: 0.4334 - val_accuracy: 0.8028\n",
      "Epoch 54/100\n",
      "313/313 [==============================] - 18s 58ms/step - loss: 0.4150 - accuracy: 0.8110 - val_loss: 0.4299 - val_accuracy: 0.7998\n",
      "Epoch 55/100\n",
      "313/313 [==============================] - 17s 53ms/step - loss: 0.4126 - accuracy: 0.8134 - val_loss: 0.4301 - val_accuracy: 0.8038\n",
      "Epoch 56/100\n",
      "313/313 [==============================] - 17s 53ms/step - loss: 0.4142 - accuracy: 0.8113 - val_loss: 0.4285 - val_accuracy: 0.8016\n",
      "Epoch 57/100\n",
      "313/313 [==============================] - 16s 52ms/step - loss: 0.4121 - accuracy: 0.8101 - val_loss: 0.4307 - val_accuracy: 0.7976\n",
      "Epoch 58/100\n",
      "313/313 [==============================] - 17s 56ms/step - loss: 0.4131 - accuracy: 0.8127 - val_loss: 0.4293 - val_accuracy: 0.8028\n",
      "Epoch 59/100\n",
      "313/313 [==============================] - 17s 56ms/step - loss: 0.4109 - accuracy: 0.8106 - val_loss: 0.4287 - val_accuracy: 0.8034\n"
     ]
    }
   ],
   "source": [
    "rmsprop = keras.optimizers.RMSprop(learning_rate=1e-4)\n",
    "model3.compile(optimizer=rmsprop, loss='binary_crossentropy', \n",
    "               metrics=['accuracy'])\n",
    "\n",
    "checkpoint_cb = keras.callbacks.ModelCheckpoint('best-2rnn-model.h5', \n",
    "                                                save_best_only=True)\n",
    "early_stopping_cb = keras.callbacks.EarlyStopping(patience=3,\n",
    "                                                  restore_best_weights=True)\n",
    "\n",
    "history = model3.fit(train_seq, train_target, epochs=100, batch_size=64,\n",
    "                     validation_data=(val_seq, val_target),\n",
    "                     callbacks=[checkpoint_cb, early_stopping_cb])"
   ]
  },
  {
   "cell_type": "code",
   "execution_count": 13,
   "metadata": {
    "colab": {
     "base_uri": "https://localhost:8080/",
     "height": 279
    },
    "id": "1paBqczf6k2S",
    "outputId": "8dec69f9-2aa3-4b2f-f5c9-c0d2713ab4f6"
   },
   "outputs": [
    {
     "data": {
      "image/png": "[encoded data removed]",
      "text/plain": [
       "<Figure size 432x288 with 1 Axes>"
      ]
     },
     "metadata": {
      "needs_background": "light"
     },
     "output_type": "display_data"
    }
   ],
   "source": [
    "plt.plot(history.history['loss'])\n",
    "plt.plot(history.history['val_loss'])\n",
    "plt.xlabel('epoch')\n",
    "plt.ylabel('loss')\n",
    "plt.legend(['train', 'val'])\n",
    "plt.show()"
   ]
  },
  {
   "cell_type": "markdown",
   "metadata": {
    "id": "Jisn0P9h6k2T"
   },
   "source": [
    "## Train GRU Neural Network"
   ]
  },
  {
   "cell_type": "code",
   "execution_count": 14,
   "metadata": {
    "colab": {
     "base_uri": "https://localhost:8080/"
    },
    "id": "dwYF578d6k2T",
    "outputId": "72677151-359c-4d9c-9fd0-026c778f4ad5"
   },
   "outputs": [
    {
     "name": "stdout",
     "output_type": "stream",
     "text": [
      "Model: \"sequential_3\"\n",
      "_________________________________________________________________\n",
      " Layer (type)                Output Shape              Param #   \n",
      "=================================================================\n",
      " embedding_3 (Embedding)     (None, 100, 16)           8000      \n",
      "                                                                 \n",
      " gru (GRU)                   (None, 8)                 624       \n",
      "                                                                 \n",
      " dense_3 (Dense)             (None, 1)                 9         \n",
      "                                                                 \n",
      "=================================================================\n",
      "Total params: 8,633\n",
      "Trainable params: 8,633\n",
      "Non-trainable params: 0\n",
      "_________________________________________________________________\n"
     ]
    }
   ],
   "source": [
    "model4 = keras.Sequential()\n",
    "\n",
    "model4.add(keras.layers.Embedding(500, 16, input_length=100))\n",
    "model4.add(keras.layers.GRU(8))\n",
    "model4.add(keras.layers.Dense(1, activation='sigmoid'))\n",
    "\n",
    "model4.summary()"
   ]
  },
  {
   "cell_type": "code",
   "execution_count": 15,
   "metadata": {
    "colab": {
     "base_uri": "https://localhost:8080/"
    },
    "id": "j2SfOZ3v6k2U",
    "outputId": "80bc83ae-1472-4c03-f372-92a6572e71b8"
   },
   "outputs": [
    {
     "name": "stdout",
     "output_type": "stream",
     "text": [
      "Epoch 1/100\n",
      "313/313 [==============================] - 12s 31ms/step - loss: 0.6918 - accuracy: 0.5544 - val_loss: 0.6908 - val_accuracy: 0.5840\n",
      "Epoch 2/100\n",
      "313/313 [==============================] - 8s 27ms/step - loss: 0.6889 - accuracy: 0.5910 - val_loss: 0.6875 - val_accuracy: 0.5962\n",
      "Epoch 3/100\n",
      "313/313 [==============================] - 8s 27ms/step - loss: 0.6841 - accuracy: 0.6109 - val_loss: 0.6821 - val_accuracy: 0.6052\n",
      "Epoch 4/100\n",
      "313/313 [==============================] - 8s 27ms/step - loss: 0.6765 - accuracy: 0.6257 - val_loss: 0.6732 - val_accuracy: 0.6158\n",
      "Epoch 5/100\n",
      "313/313 [==============================] - 8s 26ms/step - loss: 0.6641 - accuracy: 0.6388 - val_loss: 0.6590 - val_accuracy: 0.6294\n",
      "Epoch 6/100\n",
      "313/313 [==============================] - 8s 26ms/step - loss: 0.6433 - accuracy: 0.6600 - val_loss: 0.6336 - val_accuracy: 0.6648\n",
      "Epoch 7/100\n",
      "313/313 [==============================] - 8s 26ms/step - loss: 0.6031 - accuracy: 0.6914 - val_loss: 0.5803 - val_accuracy: 0.7088\n",
      "Epoch 8/100\n",
      "313/313 [==============================] - 8s 26ms/step - loss: 0.5392 - accuracy: 0.7326 - val_loss: 0.5268 - val_accuracy: 0.7448\n",
      "Epoch 9/100\n",
      "313/313 [==============================] - 8s 26ms/step - loss: 0.5072 - accuracy: 0.7560 - val_loss: 0.5070 - val_accuracy: 0.7570\n",
      "Epoch 10/100\n",
      "313/313 [==============================] - 8s 27ms/step - loss: 0.4901 - accuracy: 0.7677 - val_loss: 0.4942 - val_accuracy: 0.7658\n",
      "Epoch 11/100\n",
      "313/313 [==============================] - 8s 26ms/step - loss: 0.4774 - accuracy: 0.7774 - val_loss: 0.4828 - val_accuracy: 0.7752\n",
      "Epoch 12/100\n",
      "313/313 [==============================] - 8s 26ms/step - loss: 0.4672 - accuracy: 0.7837 - val_loss: 0.4743 - val_accuracy: 0.7774\n",
      "Epoch 13/100\n",
      "313/313 [==============================] - 8s 25ms/step - loss: 0.4589 - accuracy: 0.7896 - val_loss: 0.4693 - val_accuracy: 0.7804\n",
      "Epoch 14/100\n",
      "313/313 [==============================] - 8s 25ms/step - loss: 0.4519 - accuracy: 0.7937 - val_loss: 0.4628 - val_accuracy: 0.7846\n",
      "Epoch 15/100\n",
      "313/313 [==============================] - 8s 26ms/step - loss: 0.4463 - accuracy: 0.7977 - val_loss: 0.4663 - val_accuracy: 0.7864\n",
      "Epoch 16/100\n",
      "313/313 [==============================] - 8s 26ms/step - loss: 0.4413 - accuracy: 0.8007 - val_loss: 0.4564 - val_accuracy: 0.7886\n",
      "Epoch 17/100\n",
      "313/313 [==============================] - 8s 26ms/step - loss: 0.4372 - accuracy: 0.8031 - val_loss: 0.4535 - val_accuracy: 0.7902\n",
      "Epoch 18/100\n",
      "313/313 [==============================] - 8s 26ms/step - loss: 0.4337 - accuracy: 0.8052 - val_loss: 0.4512 - val_accuracy: 0.7868\n",
      "Epoch 19/100\n",
      "313/313 [==============================] - 8s 26ms/step - loss: 0.4308 - accuracy: 0.8055 - val_loss: 0.4511 - val_accuracy: 0.7874\n",
      "Epoch 20/100\n",
      "313/313 [==============================] - 8s 25ms/step - loss: 0.4278 - accuracy: 0.8086 - val_loss: 0.4481 - val_accuracy: 0.7932\n",
      "Epoch 21/100\n",
      "313/313 [==============================] - 8s 26ms/step - loss: 0.4262 - accuracy: 0.8098 - val_loss: 0.4489 - val_accuracy: 0.7878\n",
      "Epoch 22/100\n",
      "313/313 [==============================] - 8s 27ms/step - loss: 0.4244 - accuracy: 0.8101 - val_loss: 0.4502 - val_accuracy: 0.7932\n",
      "Epoch 23/100\n",
      "313/313 [==============================] - 9s 29ms/step - loss: 0.4228 - accuracy: 0.8121 - val_loss: 0.4463 - val_accuracy: 0.7946\n",
      "Epoch 24/100\n",
      "313/313 [==============================] - 10s 30ms/step - loss: 0.4211 - accuracy: 0.8123 - val_loss: 0.4455 - val_accuracy: 0.7926\n",
      "Epoch 25/100\n",
      "313/313 [==============================] - 10s 31ms/step - loss: 0.4203 - accuracy: 0.8131 - val_loss: 0.4444 - val_accuracy: 0.7908\n",
      "Epoch 26/100\n",
      "313/313 [==============================] - 10s 30ms/step - loss: 0.4186 - accuracy: 0.8127 - val_loss: 0.4472 - val_accuracy: 0.7928\n",
      "Epoch 27/100\n",
      "313/313 [==============================] - 10s 31ms/step - loss: 0.4180 - accuracy: 0.8159 - val_loss: 0.4441 - val_accuracy: 0.7928\n",
      "Epoch 28/100\n",
      "313/313 [==============================] - 9s 30ms/step - loss: 0.4174 - accuracy: 0.8150 - val_loss: 0.4441 - val_accuracy: 0.7926\n",
      "Epoch 29/100\n",
      "313/313 [==============================] - 9s 30ms/step - loss: 0.4163 - accuracy: 0.8163 - val_loss: 0.4481 - val_accuracy: 0.7962\n",
      "Epoch 30/100\n",
      "313/313 [==============================] - 10s 31ms/step - loss: 0.4150 - accuracy: 0.8159 - val_loss: 0.4456 - val_accuracy: 0.7880\n"
     ]
    }
   ],
   "source": [
    "rmsprop = keras.optimizers.RMSprop(learning_rate=1e-4)\n",
    "model4.compile(optimizer=rmsprop, loss='binary_crossentropy', \n",
    "               metrics=['accuracy'])\n",
    "\n",
    "checkpoint_cb = keras.callbacks.ModelCheckpoint('best-gru-model.h5', \n",
    "                                                save_best_only=True)\n",
    "early_stopping_cb = keras.callbacks.EarlyStopping(patience=3,\n",
    "                                                  restore_best_weights=True)\n",
    "\n",
    "history = model4.fit(train_seq, train_target, epochs=100, batch_size=64,\n",
    "                     validation_data=(val_seq, val_target),\n",
    "                     callbacks=[checkpoint_cb, early_stopping_cb])"
   ]
  },
  {
   "cell_type": "code",
   "execution_count": 16,
   "metadata": {
    "colab": {
     "base_uri": "https://localhost:8080/",
     "height": 279
    },
    "id": "3yUJM4nA6k2U",
    "outputId": "cf86c235-1135-4d0f-93c2-08b7cb98ead7"
   },
   "outputs": [
    {
     "data": {
      "image/png": "[encoded data removed]",
      "text/plain": [
       "<Figure size 432x288 with 1 Axes>"
      ]
     },
     "metadata": {
      "needs_background": "light"
     },
     "output_type": "display_data"
    }
   ],
   "source": [
    "plt.plot(history.history['loss'])\n",
    "plt.plot(history.history['val_loss'])\n",
    "plt.xlabel('epoch')\n",
    "plt.ylabel('loss')\n",
    "plt.legend(['train', 'val'])\n",
    "plt.show()"
   ]
  },
  {
   "cell_type": "markdown",
   "metadata": {
    "id": "Ja3-116b6k2V"
   },
   "source": [
    "## End"
   ]
  },
  {
   "cell_type": "code",
   "execution_count": 17,
   "metadata": {
    "colab": {
     "base_uri": "https://localhost:8080/"
    },
    "id": "-5WtFRN-6k2V",
    "outputId": "dbbf3f1d-3cd9-49cf-bf90-233ecac13134",
    "tags": []
   },
   "outputs": [
    {
     "name": "stdout",
     "output_type": "stream",
     "text": [
      "782/782 [==============================] - 8s 9ms/step - loss: 0.4223 - accuracy: 0.8026\n"
     ]
    },
    {
     "data": {
      "text/plain": [
       "[0.42233479022979736, 0.8025599718093872]"
      ]
     },
     "execution_count": 17,
     "metadata": {},
     "output_type": "execute_result"
    }
   ],
   "source": [
    "test_seq = pad_sequences(test_input, maxlen=100)\n",
    "\n",
    "rnn_model = keras.models.load_model('best-2rnn-model.h5')\n",
    "\n",
    "rnn_model.evaluate(test_seq, test_target)"
   ]
  }
 ],
 "metadata": {
  "accelerator": "GPU",
  "colab": {
   "name": "9-3.ipynb",
   "provenance": []
  },
  "kernelspec": {
   "display_name": "Python 3 (ipykernel)",
   "language": "python",
   "name": "python3"
  },
  "language_info": {
   "codemirror_mode": {
    "name": "ipython",
    "version": 3
   },
   "file_extension": ".py",
   "mimetype": "text/x-python",
   "name": "python",
   "nbconvert_exporter": "python",
   "pygments_lexer": "ipython3",
   "version": "3.9.7"
  }
 },
 "nbformat": 4,
 "nbformat_minor": 4
}
